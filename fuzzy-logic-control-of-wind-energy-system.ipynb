{
 "cells": [
  {
   "cell_type": "markdown",
   "id": "4a509db4",
   "metadata": {},
   "source": [
    "## Importing requires libraries"
   ]
  },
  {
   "cell_type": "code",
   "execution_count": 1,
   "id": "6c06d775",
   "metadata": {},
   "outputs": [],
   "source": [
    "import numpy as np\n",
    "import pandas as pd\n",
    "import matplotlib.pyplot as plt\n",
    "%matplotlib inline"
   ]
  },
  {
   "cell_type": "markdown",
   "id": "79a531a9",
   "metadata": {},
   "source": [
    "## Function to fetch the datasets"
   ]
  },
  {
   "cell_type": "code",
   "execution_count": 2,
   "id": "850af12b",
   "metadata": {},
   "outputs": [
    {
     "name": "stdout",
     "output_type": "stream",
     "text": [
      "Dataset is already present\n"
     ]
    }
   ],
   "source": [
    "import opendatasets as od\n",
    "import os\n",
    "import shutil\n",
    "\n",
    "def fetch_turbine_data(url, directory):\n",
    "    if not os.path.isdir(directory):\n",
    "        os.makedirs(directory)\n",
    "    if not os.path.isfile(directory+'/Turbine_Data.csv'):\n",
    "        od.download(url, data_dir=directory)\n",
    "        shutil.move(directory +\"/wind-power-forecasting/Turbine_Data.csv\", \n",
    "                    directory+\"/Turbine_Data.csv\")\n",
    "        os.rmdir(directory+\"/wind-power-forecasting/\")\n",
    "    else:\n",
    "        print(\"Dataset is already present\")\n",
    "\n",
    "\n",
    "DIR = './datasets'\n",
    "URL = 'https://www.kaggle.com/theforcecoder/wind-power-forecasting'\n",
    "\n",
    "fetch_turbine_data(URL,DIR)"
   ]
  },
  {
   "cell_type": "markdown",
   "id": "f9eb0f64",
   "metadata": {},
   "source": [
    "## Loading the dataset"
   ]
  },
  {
   "cell_type": "code",
   "execution_count": 3,
   "id": "e1b45456",
   "metadata": {},
   "outputs": [],
   "source": [
    "def load_turbine_data(path = DIR):\n",
    "    return pd.read_csv(path + \"/Turbine_Data.csv\")\n",
    "turbine_df = load_turbine_data()"
   ]
  },
  {
   "cell_type": "code",
   "execution_count": 4,
   "id": "4b402ca2",
   "metadata": {},
   "outputs": [
    {
     "data": {
      "text/html": [
       "<div>\n",
       "<style scoped>\n",
       "    .dataframe tbody tr th:only-of-type {\n",
       "        vertical-align: middle;\n",
       "    }\n",
       "\n",
       "    .dataframe tbody tr th {\n",
       "        vertical-align: top;\n",
       "    }\n",
       "\n",
       "    .dataframe thead th {\n",
       "        text-align: right;\n",
       "    }\n",
       "</style>\n",
       "<table border=\"1\" class=\"dataframe\">\n",
       "  <thead>\n",
       "    <tr style=\"text-align: right;\">\n",
       "      <th></th>\n",
       "      <th>Unnamed: 0</th>\n",
       "      <th>ActivePower</th>\n",
       "      <th>AmbientTemperatue</th>\n",
       "      <th>BearingShaftTemperature</th>\n",
       "      <th>Blade1PitchAngle</th>\n",
       "      <th>Blade2PitchAngle</th>\n",
       "      <th>Blade3PitchAngle</th>\n",
       "      <th>ControlBoxTemperature</th>\n",
       "      <th>GearboxBearingTemperature</th>\n",
       "      <th>GearboxOilTemperature</th>\n",
       "      <th>...</th>\n",
       "      <th>GeneratorWinding2Temperature</th>\n",
       "      <th>HubTemperature</th>\n",
       "      <th>MainBoxTemperature</th>\n",
       "      <th>NacellePosition</th>\n",
       "      <th>ReactivePower</th>\n",
       "      <th>RotorRPM</th>\n",
       "      <th>TurbineStatus</th>\n",
       "      <th>WTG</th>\n",
       "      <th>WindDirection</th>\n",
       "      <th>WindSpeed</th>\n",
       "    </tr>\n",
       "  </thead>\n",
       "  <tbody>\n",
       "    <tr>\n",
       "      <th>118219</th>\n",
       "      <td>2020-03-30 23:10:00+00:00</td>\n",
       "      <td>70.044465</td>\n",
       "      <td>27.523741</td>\n",
       "      <td>45.711129</td>\n",
       "      <td>1.515669</td>\n",
       "      <td>1.950088</td>\n",
       "      <td>1.950088</td>\n",
       "      <td>0.0</td>\n",
       "      <td>59.821165</td>\n",
       "      <td>55.193793</td>\n",
       "      <td>...</td>\n",
       "      <td>58.148777</td>\n",
       "      <td>39.008931</td>\n",
       "      <td>36.476562</td>\n",
       "      <td>178.0</td>\n",
       "      <td>13.775785</td>\n",
       "      <td>9.234004</td>\n",
       "      <td>2.0</td>\n",
       "      <td>G01</td>\n",
       "      <td>178.0</td>\n",
       "      <td>3.533445</td>\n",
       "    </tr>\n",
       "    <tr>\n",
       "      <th>118220</th>\n",
       "      <td>2020-03-30 23:20:00+00:00</td>\n",
       "      <td>40.833474</td>\n",
       "      <td>27.602882</td>\n",
       "      <td>45.598573</td>\n",
       "      <td>1.702809</td>\n",
       "      <td>2.136732</td>\n",
       "      <td>2.136732</td>\n",
       "      <td>0.0</td>\n",
       "      <td>59.142038</td>\n",
       "      <td>54.798545</td>\n",
       "      <td>...</td>\n",
       "      <td>57.550367</td>\n",
       "      <td>39.006759</td>\n",
       "      <td>36.328125</td>\n",
       "      <td>178.0</td>\n",
       "      <td>8.088928</td>\n",
       "      <td>9.229370</td>\n",
       "      <td>2.0</td>\n",
       "      <td>G01</td>\n",
       "      <td>178.0</td>\n",
       "      <td>3.261231</td>\n",
       "    </tr>\n",
       "    <tr>\n",
       "      <th>118221</th>\n",
       "      <td>2020-03-30 23:30:00+00:00</td>\n",
       "      <td>20.777790</td>\n",
       "      <td>27.560925</td>\n",
       "      <td>45.462045</td>\n",
       "      <td>1.706214</td>\n",
       "      <td>2.139664</td>\n",
       "      <td>2.139664</td>\n",
       "      <td>0.0</td>\n",
       "      <td>58.439439</td>\n",
       "      <td>54.380456</td>\n",
       "      <td>...</td>\n",
       "      <td>57.099335</td>\n",
       "      <td>39.003815</td>\n",
       "      <td>36.131944</td>\n",
       "      <td>178.0</td>\n",
       "      <td>4.355978</td>\n",
       "      <td>9.236802</td>\n",
       "      <td>2.0</td>\n",
       "      <td>G01</td>\n",
       "      <td>178.0</td>\n",
       "      <td>3.331839</td>\n",
       "    </tr>\n",
       "    <tr>\n",
       "      <th>118222</th>\n",
       "      <td>2020-03-30 23:40:00+00:00</td>\n",
       "      <td>62.091039</td>\n",
       "      <td>27.810472</td>\n",
       "      <td>45.343827</td>\n",
       "      <td>1.575352</td>\n",
       "      <td>2.009781</td>\n",
       "      <td>2.009781</td>\n",
       "      <td>0.0</td>\n",
       "      <td>58.205413</td>\n",
       "      <td>54.079014</td>\n",
       "      <td>...</td>\n",
       "      <td>56.847239</td>\n",
       "      <td>39.003815</td>\n",
       "      <td>36.007805</td>\n",
       "      <td>190.0</td>\n",
       "      <td>12.018077</td>\n",
       "      <td>9.237374</td>\n",
       "      <td>2.0</td>\n",
       "      <td>G01</td>\n",
       "      <td>190.0</td>\n",
       "      <td>3.284468</td>\n",
       "    </tr>\n",
       "    <tr>\n",
       "      <th>118223</th>\n",
       "      <td>2020-03-30 23:50:00+00:00</td>\n",
       "      <td>68.664425</td>\n",
       "      <td>27.915828</td>\n",
       "      <td>45.231610</td>\n",
       "      <td>1.499323</td>\n",
       "      <td>1.933124</td>\n",
       "      <td>1.933124</td>\n",
       "      <td>0.0</td>\n",
       "      <td>58.581716</td>\n",
       "      <td>54.080505</td>\n",
       "      <td>...</td>\n",
       "      <td>56.741040</td>\n",
       "      <td>39.003815</td>\n",
       "      <td>35.914062</td>\n",
       "      <td>203.0</td>\n",
       "      <td>14.439669</td>\n",
       "      <td>9.235532</td>\n",
       "      <td>2.0</td>\n",
       "      <td>G01</td>\n",
       "      <td>203.0</td>\n",
       "      <td>3.475205</td>\n",
       "    </tr>\n",
       "  </tbody>\n",
       "</table>\n",
       "<p>5 rows × 22 columns</p>\n",
       "</div>"
      ],
      "text/plain": [
       "                       Unnamed: 0  ActivePower  AmbientTemperatue  \\\n",
       "118219  2020-03-30 23:10:00+00:00    70.044465          27.523741   \n",
       "118220  2020-03-30 23:20:00+00:00    40.833474          27.602882   \n",
       "118221  2020-03-30 23:30:00+00:00    20.777790          27.560925   \n",
       "118222  2020-03-30 23:40:00+00:00    62.091039          27.810472   \n",
       "118223  2020-03-30 23:50:00+00:00    68.664425          27.915828   \n",
       "\n",
       "        BearingShaftTemperature  Blade1PitchAngle  Blade2PitchAngle  \\\n",
       "118219                45.711129          1.515669          1.950088   \n",
       "118220                45.598573          1.702809          2.136732   \n",
       "118221                45.462045          1.706214          2.139664   \n",
       "118222                45.343827          1.575352          2.009781   \n",
       "118223                45.231610          1.499323          1.933124   \n",
       "\n",
       "        Blade3PitchAngle  ControlBoxTemperature  GearboxBearingTemperature  \\\n",
       "118219          1.950088                    0.0                  59.821165   \n",
       "118220          2.136732                    0.0                  59.142038   \n",
       "118221          2.139664                    0.0                  58.439439   \n",
       "118222          2.009781                    0.0                  58.205413   \n",
       "118223          1.933124                    0.0                  58.581716   \n",
       "\n",
       "        GearboxOilTemperature  ...  GeneratorWinding2Temperature  \\\n",
       "118219              55.193793  ...                     58.148777   \n",
       "118220              54.798545  ...                     57.550367   \n",
       "118221              54.380456  ...                     57.099335   \n",
       "118222              54.079014  ...                     56.847239   \n",
       "118223              54.080505  ...                     56.741040   \n",
       "\n",
       "        HubTemperature  MainBoxTemperature  NacellePosition  ReactivePower  \\\n",
       "118219       39.008931           36.476562            178.0      13.775785   \n",
       "118220       39.006759           36.328125            178.0       8.088928   \n",
       "118221       39.003815           36.131944            178.0       4.355978   \n",
       "118222       39.003815           36.007805            190.0      12.018077   \n",
       "118223       39.003815           35.914062            203.0      14.439669   \n",
       "\n",
       "        RotorRPM  TurbineStatus  WTG  WindDirection WindSpeed  \n",
       "118219  9.234004            2.0  G01          178.0  3.533445  \n",
       "118220  9.229370            2.0  G01          178.0  3.261231  \n",
       "118221  9.236802            2.0  G01          178.0  3.331839  \n",
       "118222  9.237374            2.0  G01          190.0  3.284468  \n",
       "118223  9.235532            2.0  G01          203.0  3.475205  \n",
       "\n",
       "[5 rows x 22 columns]"
      ]
     },
     "execution_count": 4,
     "metadata": {},
     "output_type": "execute_result"
    }
   ],
   "source": [
    "turbine_df.tail()"
   ]
  },
  {
   "cell_type": "code",
   "execution_count": 5,
   "id": "25bfa2e8",
   "metadata": {},
   "outputs": [
    {
     "data": {
      "text/html": [
       "<div>\n",
       "<style scoped>\n",
       "    .dataframe tbody tr th:only-of-type {\n",
       "        vertical-align: middle;\n",
       "    }\n",
       "\n",
       "    .dataframe tbody tr th {\n",
       "        vertical-align: top;\n",
       "    }\n",
       "\n",
       "    .dataframe thead th {\n",
       "        text-align: right;\n",
       "    }\n",
       "</style>\n",
       "<table border=\"1\" class=\"dataframe\">\n",
       "  <thead>\n",
       "    <tr style=\"text-align: right;\">\n",
       "      <th></th>\n",
       "      <th>ActivePower</th>\n",
       "      <th>AmbientTemperatue</th>\n",
       "      <th>BearingShaftTemperature</th>\n",
       "      <th>Blade1PitchAngle</th>\n",
       "      <th>Blade2PitchAngle</th>\n",
       "      <th>Blade3PitchAngle</th>\n",
       "      <th>ControlBoxTemperature</th>\n",
       "      <th>GearboxBearingTemperature</th>\n",
       "      <th>GearboxOilTemperature</th>\n",
       "      <th>GeneratorRPM</th>\n",
       "      <th>GeneratorWinding1Temperature</th>\n",
       "      <th>GeneratorWinding2Temperature</th>\n",
       "      <th>HubTemperature</th>\n",
       "      <th>MainBoxTemperature</th>\n",
       "      <th>NacellePosition</th>\n",
       "      <th>ReactivePower</th>\n",
       "      <th>RotorRPM</th>\n",
       "      <th>TurbineStatus</th>\n",
       "      <th>WindDirection</th>\n",
       "      <th>WindSpeed</th>\n",
       "    </tr>\n",
       "  </thead>\n",
       "  <tbody>\n",
       "    <tr>\n",
       "      <th>count</th>\n",
       "      <td>94750.000000</td>\n",
       "      <td>93817.000000</td>\n",
       "      <td>62518.000000</td>\n",
       "      <td>41996.000000</td>\n",
       "      <td>41891.000000</td>\n",
       "      <td>41891.000000</td>\n",
       "      <td>62160.0</td>\n",
       "      <td>62540.000000</td>\n",
       "      <td>62438.000000</td>\n",
       "      <td>62295.000000</td>\n",
       "      <td>62427.000000</td>\n",
       "      <td>62449.000000</td>\n",
       "      <td>62406.000000</td>\n",
       "      <td>62507.000000</td>\n",
       "      <td>72278.000000</td>\n",
       "      <td>94748.000000</td>\n",
       "      <td>62127.000000</td>\n",
       "      <td>6.290800e+04</td>\n",
       "      <td>72278.000000</td>\n",
       "      <td>94595.000000</td>\n",
       "    </tr>\n",
       "    <tr>\n",
       "      <th>mean</th>\n",
       "      <td>619.109805</td>\n",
       "      <td>28.774654</td>\n",
       "      <td>43.010189</td>\n",
       "      <td>9.749641</td>\n",
       "      <td>10.036535</td>\n",
       "      <td>10.036535</td>\n",
       "      <td>0.0</td>\n",
       "      <td>64.234170</td>\n",
       "      <td>57.561217</td>\n",
       "      <td>1102.026269</td>\n",
       "      <td>72.460403</td>\n",
       "      <td>71.826659</td>\n",
       "      <td>36.897978</td>\n",
       "      <td>39.547603</td>\n",
       "      <td>196.290539</td>\n",
       "      <td>88.133966</td>\n",
       "      <td>9.907500</td>\n",
       "      <td>2.280429e+03</td>\n",
       "      <td>196.290539</td>\n",
       "      <td>5.878960</td>\n",
       "    </tr>\n",
       "    <tr>\n",
       "      <th>std</th>\n",
       "      <td>611.275373</td>\n",
       "      <td>4.369145</td>\n",
       "      <td>5.545312</td>\n",
       "      <td>20.644828</td>\n",
       "      <td>20.270465</td>\n",
       "      <td>20.270465</td>\n",
       "      <td>0.0</td>\n",
       "      <td>10.455556</td>\n",
       "      <td>6.323895</td>\n",
       "      <td>528.063946</td>\n",
       "      <td>22.627489</td>\n",
       "      <td>22.650255</td>\n",
       "      <td>5.178711</td>\n",
       "      <td>5.732783</td>\n",
       "      <td>88.296554</td>\n",
       "      <td>116.596725</td>\n",
       "      <td>4.718421</td>\n",
       "      <td>3.586034e+05</td>\n",
       "      <td>88.296554</td>\n",
       "      <td>2.619084</td>\n",
       "    </tr>\n",
       "    <tr>\n",
       "      <th>min</th>\n",
       "      <td>-38.524659</td>\n",
       "      <td>0.000000</td>\n",
       "      <td>0.000000</td>\n",
       "      <td>-43.156734</td>\n",
       "      <td>-26.443415</td>\n",
       "      <td>-26.443415</td>\n",
       "      <td>0.0</td>\n",
       "      <td>0.000000</td>\n",
       "      <td>0.000000</td>\n",
       "      <td>0.000000</td>\n",
       "      <td>0.000000</td>\n",
       "      <td>0.000000</td>\n",
       "      <td>0.000000</td>\n",
       "      <td>0.000000</td>\n",
       "      <td>0.000000</td>\n",
       "      <td>-203.182591</td>\n",
       "      <td>0.000000</td>\n",
       "      <td>0.000000e+00</td>\n",
       "      <td>0.000000</td>\n",
       "      <td>0.000000</td>\n",
       "    </tr>\n",
       "    <tr>\n",
       "      <th>25%</th>\n",
       "      <td>79.642258</td>\n",
       "      <td>25.627428</td>\n",
       "      <td>39.840247</td>\n",
       "      <td>-0.939849</td>\n",
       "      <td>-0.433264</td>\n",
       "      <td>-0.433264</td>\n",
       "      <td>0.0</td>\n",
       "      <td>57.872242</td>\n",
       "      <td>53.942181</td>\n",
       "      <td>1029.812177</td>\n",
       "      <td>55.492241</td>\n",
       "      <td>54.763998</td>\n",
       "      <td>33.943949</td>\n",
       "      <td>35.812500</td>\n",
       "      <td>145.000000</td>\n",
       "      <td>-0.432137</td>\n",
       "      <td>9.231091</td>\n",
       "      <td>2.000000e+00</td>\n",
       "      <td>145.000000</td>\n",
       "      <td>3.823330</td>\n",
       "    </tr>\n",
       "    <tr>\n",
       "      <th>50%</th>\n",
       "      <td>402.654893</td>\n",
       "      <td>28.340541</td>\n",
       "      <td>42.910877</td>\n",
       "      <td>0.394399</td>\n",
       "      <td>0.888977</td>\n",
       "      <td>0.888977</td>\n",
       "      <td>0.0</td>\n",
       "      <td>64.834662</td>\n",
       "      <td>57.196089</td>\n",
       "      <td>1124.860720</td>\n",
       "      <td>65.788800</td>\n",
       "      <td>65.004946</td>\n",
       "      <td>37.003815</td>\n",
       "      <td>39.491310</td>\n",
       "      <td>182.000000</td>\n",
       "      <td>35.883659</td>\n",
       "      <td>10.098702</td>\n",
       "      <td>2.000000e+00</td>\n",
       "      <td>182.000000</td>\n",
       "      <td>5.557765</td>\n",
       "    </tr>\n",
       "    <tr>\n",
       "      <th>75%</th>\n",
       "      <td>1074.591780</td>\n",
       "      <td>31.664772</td>\n",
       "      <td>47.007976</td>\n",
       "      <td>8.099302</td>\n",
       "      <td>8.480194</td>\n",
       "      <td>8.480194</td>\n",
       "      <td>0.0</td>\n",
       "      <td>71.079306</td>\n",
       "      <td>61.305312</td>\n",
       "      <td>1515.402005</td>\n",
       "      <td>85.867449</td>\n",
       "      <td>85.337740</td>\n",
       "      <td>40.008425</td>\n",
       "      <td>43.359375</td>\n",
       "      <td>271.000000</td>\n",
       "      <td>147.359075</td>\n",
       "      <td>13.600413</td>\n",
       "      <td>2.000000e+00</td>\n",
       "      <td>271.000000</td>\n",
       "      <td>7.506710</td>\n",
       "    </tr>\n",
       "    <tr>\n",
       "      <th>max</th>\n",
       "      <td>1779.032433</td>\n",
       "      <td>42.405597</td>\n",
       "      <td>55.088655</td>\n",
       "      <td>90.143610</td>\n",
       "      <td>90.017830</td>\n",
       "      <td>90.017830</td>\n",
       "      <td>0.0</td>\n",
       "      <td>82.237932</td>\n",
       "      <td>70.764581</td>\n",
       "      <td>1809.941700</td>\n",
       "      <td>126.773031</td>\n",
       "      <td>126.043018</td>\n",
       "      <td>47.996185</td>\n",
       "      <td>54.250000</td>\n",
       "      <td>357.000000</td>\n",
       "      <td>403.713620</td>\n",
       "      <td>16.273495</td>\n",
       "      <td>6.574653e+07</td>\n",
       "      <td>357.000000</td>\n",
       "      <td>22.970893</td>\n",
       "    </tr>\n",
       "  </tbody>\n",
       "</table>\n",
       "</div>"
      ],
      "text/plain": [
       "        ActivePower  AmbientTemperatue  BearingShaftTemperature  \\\n",
       "count  94750.000000       93817.000000             62518.000000   \n",
       "mean     619.109805          28.774654                43.010189   \n",
       "std      611.275373           4.369145                 5.545312   \n",
       "min      -38.524659           0.000000                 0.000000   \n",
       "25%       79.642258          25.627428                39.840247   \n",
       "50%      402.654893          28.340541                42.910877   \n",
       "75%     1074.591780          31.664772                47.007976   \n",
       "max     1779.032433          42.405597                55.088655   \n",
       "\n",
       "       Blade1PitchAngle  Blade2PitchAngle  Blade3PitchAngle  \\\n",
       "count      41996.000000      41891.000000      41891.000000   \n",
       "mean           9.749641         10.036535         10.036535   \n",
       "std           20.644828         20.270465         20.270465   \n",
       "min          -43.156734        -26.443415        -26.443415   \n",
       "25%           -0.939849         -0.433264         -0.433264   \n",
       "50%            0.394399          0.888977          0.888977   \n",
       "75%            8.099302          8.480194          8.480194   \n",
       "max           90.143610         90.017830         90.017830   \n",
       "\n",
       "       ControlBoxTemperature  GearboxBearingTemperature  \\\n",
       "count                62160.0               62540.000000   \n",
       "mean                     0.0                  64.234170   \n",
       "std                      0.0                  10.455556   \n",
       "min                      0.0                   0.000000   \n",
       "25%                      0.0                  57.872242   \n",
       "50%                      0.0                  64.834662   \n",
       "75%                      0.0                  71.079306   \n",
       "max                      0.0                  82.237932   \n",
       "\n",
       "       GearboxOilTemperature  GeneratorRPM  GeneratorWinding1Temperature  \\\n",
       "count           62438.000000  62295.000000                  62427.000000   \n",
       "mean               57.561217   1102.026269                     72.460403   \n",
       "std                 6.323895    528.063946                     22.627489   \n",
       "min                 0.000000      0.000000                      0.000000   \n",
       "25%                53.942181   1029.812177                     55.492241   \n",
       "50%                57.196089   1124.860720                     65.788800   \n",
       "75%                61.305312   1515.402005                     85.867449   \n",
       "max                70.764581   1809.941700                    126.773031   \n",
       "\n",
       "       GeneratorWinding2Temperature  HubTemperature  MainBoxTemperature  \\\n",
       "count                  62449.000000    62406.000000        62507.000000   \n",
       "mean                      71.826659       36.897978           39.547603   \n",
       "std                       22.650255        5.178711            5.732783   \n",
       "min                        0.000000        0.000000            0.000000   \n",
       "25%                       54.763998       33.943949           35.812500   \n",
       "50%                       65.004946       37.003815           39.491310   \n",
       "75%                       85.337740       40.008425           43.359375   \n",
       "max                      126.043018       47.996185           54.250000   \n",
       "\n",
       "       NacellePosition  ReactivePower      RotorRPM  TurbineStatus  \\\n",
       "count     72278.000000   94748.000000  62127.000000   6.290800e+04   \n",
       "mean        196.290539      88.133966      9.907500   2.280429e+03   \n",
       "std          88.296554     116.596725      4.718421   3.586034e+05   \n",
       "min           0.000000    -203.182591      0.000000   0.000000e+00   \n",
       "25%         145.000000      -0.432137      9.231091   2.000000e+00   \n",
       "50%         182.000000      35.883659     10.098702   2.000000e+00   \n",
       "75%         271.000000     147.359075     13.600413   2.000000e+00   \n",
       "max         357.000000     403.713620     16.273495   6.574653e+07   \n",
       "\n",
       "       WindDirection     WindSpeed  \n",
       "count   72278.000000  94595.000000  \n",
       "mean      196.290539      5.878960  \n",
       "std        88.296554      2.619084  \n",
       "min         0.000000      0.000000  \n",
       "25%       145.000000      3.823330  \n",
       "50%       182.000000      5.557765  \n",
       "75%       271.000000      7.506710  \n",
       "max       357.000000     22.970893  "
      ]
     },
     "execution_count": 5,
     "metadata": {},
     "output_type": "execute_result"
    }
   ],
   "source": [
    "turbine_df.describe()"
   ]
  },
  {
   "cell_type": "code",
   "execution_count": 6,
   "id": "c5dcff60",
   "metadata": {},
   "outputs": [
    {
     "name": "stdout",
     "output_type": "stream",
     "text": [
      "<class 'pandas.core.frame.DataFrame'>\n",
      "RangeIndex: 118224 entries, 0 to 118223\n",
      "Data columns (total 22 columns):\n",
      " #   Column                        Non-Null Count   Dtype  \n",
      "---  ------                        --------------   -----  \n",
      " 0   Unnamed: 0                    118224 non-null  object \n",
      " 1   ActivePower                   94750 non-null   float64\n",
      " 2   AmbientTemperatue             93817 non-null   float64\n",
      " 3   BearingShaftTemperature       62518 non-null   float64\n",
      " 4   Blade1PitchAngle              41996 non-null   float64\n",
      " 5   Blade2PitchAngle              41891 non-null   float64\n",
      " 6   Blade3PitchAngle              41891 non-null   float64\n",
      " 7   ControlBoxTemperature         62160 non-null   float64\n",
      " 8   GearboxBearingTemperature     62540 non-null   float64\n",
      " 9   GearboxOilTemperature         62438 non-null   float64\n",
      " 10  GeneratorRPM                  62295 non-null   float64\n",
      " 11  GeneratorWinding1Temperature  62427 non-null   float64\n",
      " 12  GeneratorWinding2Temperature  62449 non-null   float64\n",
      " 13  HubTemperature                62406 non-null   float64\n",
      " 14  MainBoxTemperature            62507 non-null   float64\n",
      " 15  NacellePosition               72278 non-null   float64\n",
      " 16  ReactivePower                 94748 non-null   float64\n",
      " 17  RotorRPM                      62127 non-null   float64\n",
      " 18  TurbineStatus                 62908 non-null   float64\n",
      " 19  WTG                           118224 non-null  object \n",
      " 20  WindDirection                 72278 non-null   float64\n",
      " 21  WindSpeed                     94595 non-null   float64\n",
      "dtypes: float64(20), object(2)\n",
      "memory usage: 19.8+ MB\n"
     ]
    }
   ],
   "source": [
    "turbine_df.info()"
   ]
  },
  {
   "cell_type": "code",
   "execution_count": 7,
   "id": "c6714666",
   "metadata": {},
   "outputs": [
    {
     "data": {
      "image/png": "[encoded data removed]",
      "text/plain": [
       "<Figure size 1440x1080 with 20 Axes>"
      ]
     },
     "metadata": {
      "needs_background": "light"
     },
     "output_type": "display_data"
    }
   ],
   "source": [
    "turbine_df.hist(bins=50, figsize=(20,15))\n",
    "plt.show()"
   ]
  },
  {
   "cell_type": "code",
   "execution_count": 8,
   "id": "6804486d",
   "metadata": {},
   "outputs": [
    {
     "data": {
      "image/png": "[encoded data removed]",
      "text/plain": [
       "<Figure size 432x288 with 1 Axes>"
      ]
     },
     "metadata": {
      "needs_background": "light"
     },
     "output_type": "display_data"
    }
   ],
   "source": [
    "fig, ax = plt.subplots()\n",
    "ax.scatter(turbine_df[\"Unnamed: 0\"][:1000], turbine_df[\"ActivePower\"][:1000])\n",
    "ax.set_title(\"Power\")\n",
    "ax.set_ylabel(\"Active Power\")\n",
    "ax.set_xlabel('Date')\n",
    "plt.show()"
   ]
  },
  {
   "cell_type": "code",
   "execution_count": 9,
   "id": "3c75cb2b",
   "metadata": {},
   "outputs": [
    {
     "data": {
      "image/png": "[encoded data removed]",
      "text/plain": [
       "<Figure size 432x288 with 1 Axes>"
      ]
     },
     "metadata": {
      "needs_background": "light"
     },
     "output_type": "display_data"
    }
   ],
   "source": [
    "plt.hist(turbine_df.ActivePower)\n",
    "plt.xlabel(\"Active Power\")\n",
    "plt.ylabel(\"Frequency\")\n",
    "plt.show()"
   ]
  },
  {
   "cell_type": "markdown",
   "id": "1eb106ba",
   "metadata": {},
   "source": [
    "## Parsing dates"
   ]
  },
  {
   "cell_type": "code",
   "execution_count": 10,
   "id": "6e5ff476",
   "metadata": {},
   "outputs": [],
   "source": [
    "turbine_df = pd.read_csv(\"./datasets/Turbine_Data.csv\",\n",
    "                 parse_dates=[\"Unnamed: 0\"])"
   ]
  },
  {
   "cell_type": "code",
   "execution_count": 11,
   "id": "49a24bb1",
   "metadata": {},
   "outputs": [
    {
     "data": {
      "text/html": [
       "<div>\n",
       "<style scoped>\n",
       "    .dataframe tbody tr th:only-of-type {\n",
       "        vertical-align: middle;\n",
       "    }\n",
       "\n",
       "    .dataframe tbody tr th {\n",
       "        vertical-align: top;\n",
       "    }\n",
       "\n",
       "    .dataframe thead th {\n",
       "        text-align: right;\n",
       "    }\n",
       "</style>\n",
       "<table border=\"1\" class=\"dataframe\">\n",
       "  <thead>\n",
       "    <tr style=\"text-align: right;\">\n",
       "      <th></th>\n",
       "      <th>Unnamed: 0</th>\n",
       "      <th>ActivePower</th>\n",
       "      <th>AmbientTemperatue</th>\n",
       "      <th>BearingShaftTemperature</th>\n",
       "      <th>Blade1PitchAngle</th>\n",
       "      <th>Blade2PitchAngle</th>\n",
       "      <th>Blade3PitchAngle</th>\n",
       "      <th>ControlBoxTemperature</th>\n",
       "      <th>GearboxBearingTemperature</th>\n",
       "      <th>GearboxOilTemperature</th>\n",
       "      <th>...</th>\n",
       "      <th>GeneratorWinding2Temperature</th>\n",
       "      <th>HubTemperature</th>\n",
       "      <th>MainBoxTemperature</th>\n",
       "      <th>NacellePosition</th>\n",
       "      <th>ReactivePower</th>\n",
       "      <th>RotorRPM</th>\n",
       "      <th>TurbineStatus</th>\n",
       "      <th>WTG</th>\n",
       "      <th>WindDirection</th>\n",
       "      <th>WindSpeed</th>\n",
       "    </tr>\n",
       "  </thead>\n",
       "  <tbody>\n",
       "    <tr>\n",
       "      <th>0</th>\n",
       "      <td>2017-12-31 00:00:00+00:00</td>\n",
       "      <td>NaN</td>\n",
       "      <td>NaN</td>\n",
       "      <td>NaN</td>\n",
       "      <td>NaN</td>\n",
       "      <td>NaN</td>\n",
       "      <td>NaN</td>\n",
       "      <td>NaN</td>\n",
       "      <td>NaN</td>\n",
       "      <td>NaN</td>\n",
       "      <td>...</td>\n",
       "      <td>NaN</td>\n",
       "      <td>NaN</td>\n",
       "      <td>NaN</td>\n",
       "      <td>NaN</td>\n",
       "      <td>NaN</td>\n",
       "      <td>NaN</td>\n",
       "      <td>NaN</td>\n",
       "      <td>G01</td>\n",
       "      <td>NaN</td>\n",
       "      <td>NaN</td>\n",
       "    </tr>\n",
       "    <tr>\n",
       "      <th>1</th>\n",
       "      <td>2017-12-31 00:10:00+00:00</td>\n",
       "      <td>NaN</td>\n",
       "      <td>NaN</td>\n",
       "      <td>NaN</td>\n",
       "      <td>NaN</td>\n",
       "      <td>NaN</td>\n",
       "      <td>NaN</td>\n",
       "      <td>NaN</td>\n",
       "      <td>NaN</td>\n",
       "      <td>NaN</td>\n",
       "      <td>...</td>\n",
       "      <td>NaN</td>\n",
       "      <td>NaN</td>\n",
       "      <td>NaN</td>\n",
       "      <td>NaN</td>\n",
       "      <td>NaN</td>\n",
       "      <td>NaN</td>\n",
       "      <td>NaN</td>\n",
       "      <td>G01</td>\n",
       "      <td>NaN</td>\n",
       "      <td>NaN</td>\n",
       "    </tr>\n",
       "    <tr>\n",
       "      <th>2</th>\n",
       "      <td>2017-12-31 00:20:00+00:00</td>\n",
       "      <td>NaN</td>\n",
       "      <td>NaN</td>\n",
       "      <td>NaN</td>\n",
       "      <td>NaN</td>\n",
       "      <td>NaN</td>\n",
       "      <td>NaN</td>\n",
       "      <td>NaN</td>\n",
       "      <td>NaN</td>\n",
       "      <td>NaN</td>\n",
       "      <td>...</td>\n",
       "      <td>NaN</td>\n",
       "      <td>NaN</td>\n",
       "      <td>NaN</td>\n",
       "      <td>NaN</td>\n",
       "      <td>NaN</td>\n",
       "      <td>NaN</td>\n",
       "      <td>NaN</td>\n",
       "      <td>G01</td>\n",
       "      <td>NaN</td>\n",
       "      <td>NaN</td>\n",
       "    </tr>\n",
       "    <tr>\n",
       "      <th>3</th>\n",
       "      <td>2017-12-31 00:30:00+00:00</td>\n",
       "      <td>NaN</td>\n",
       "      <td>NaN</td>\n",
       "      <td>NaN</td>\n",
       "      <td>NaN</td>\n",
       "      <td>NaN</td>\n",
       "      <td>NaN</td>\n",
       "      <td>NaN</td>\n",
       "      <td>NaN</td>\n",
       "      <td>NaN</td>\n",
       "      <td>...</td>\n",
       "      <td>NaN</td>\n",
       "      <td>NaN</td>\n",
       "      <td>NaN</td>\n",
       "      <td>NaN</td>\n",
       "      <td>NaN</td>\n",
       "      <td>NaN</td>\n",
       "      <td>NaN</td>\n",
       "      <td>G01</td>\n",
       "      <td>NaN</td>\n",
       "      <td>NaN</td>\n",
       "    </tr>\n",
       "    <tr>\n",
       "      <th>4</th>\n",
       "      <td>2017-12-31 00:40:00+00:00</td>\n",
       "      <td>NaN</td>\n",
       "      <td>NaN</td>\n",
       "      <td>NaN</td>\n",
       "      <td>NaN</td>\n",
       "      <td>NaN</td>\n",
       "      <td>NaN</td>\n",
       "      <td>NaN</td>\n",
       "      <td>NaN</td>\n",
       "      <td>NaN</td>\n",
       "      <td>...</td>\n",
       "      <td>NaN</td>\n",
       "      <td>NaN</td>\n",
       "      <td>NaN</td>\n",
       "      <td>NaN</td>\n",
       "      <td>NaN</td>\n",
       "      <td>NaN</td>\n",
       "      <td>NaN</td>\n",
       "      <td>G01</td>\n",
       "      <td>NaN</td>\n",
       "      <td>NaN</td>\n",
       "    </tr>\n",
       "  </tbody>\n",
       "</table>\n",
       "<p>5 rows × 22 columns</p>\n",
       "</div>"
      ],
      "text/plain": [
       "                 Unnamed: 0  ActivePower  AmbientTemperatue  \\\n",
       "0 2017-12-31 00:00:00+00:00          NaN                NaN   \n",
       "1 2017-12-31 00:10:00+00:00          NaN                NaN   \n",
       "2 2017-12-31 00:20:00+00:00          NaN                NaN   \n",
       "3 2017-12-31 00:30:00+00:00          NaN                NaN   \n",
       "4 2017-12-31 00:40:00+00:00          NaN                NaN   \n",
       "\n",
       "   BearingShaftTemperature  Blade1PitchAngle  Blade2PitchAngle  \\\n",
       "0                      NaN               NaN               NaN   \n",
       "1                      NaN               NaN               NaN   \n",
       "2                      NaN               NaN               NaN   \n",
       "3                      NaN               NaN               NaN   \n",
       "4                      NaN               NaN               NaN   \n",
       "\n",
       "   Blade3PitchAngle  ControlBoxTemperature  GearboxBearingTemperature  \\\n",
       "0               NaN                    NaN                        NaN   \n",
       "1               NaN                    NaN                        NaN   \n",
       "2               NaN                    NaN                        NaN   \n",
       "3               NaN                    NaN                        NaN   \n",
       "4               NaN                    NaN                        NaN   \n",
       "\n",
       "   GearboxOilTemperature  ...  GeneratorWinding2Temperature  HubTemperature  \\\n",
       "0                    NaN  ...                           NaN             NaN   \n",
       "1                    NaN  ...                           NaN             NaN   \n",
       "2                    NaN  ...                           NaN             NaN   \n",
       "3                    NaN  ...                           NaN             NaN   \n",
       "4                    NaN  ...                           NaN             NaN   \n",
       "\n",
       "   MainBoxTemperature  NacellePosition  ReactivePower  RotorRPM  \\\n",
       "0                 NaN              NaN            NaN       NaN   \n",
       "1                 NaN              NaN            NaN       NaN   \n",
       "2                 NaN              NaN            NaN       NaN   \n",
       "3                 NaN              NaN            NaN       NaN   \n",
       "4                 NaN              NaN            NaN       NaN   \n",
       "\n",
       "   TurbineStatus  WTG  WindDirection WindSpeed  \n",
       "0            NaN  G01            NaN       NaN  \n",
       "1            NaN  G01            NaN       NaN  \n",
       "2            NaN  G01            NaN       NaN  \n",
       "3            NaN  G01            NaN       NaN  \n",
       "4            NaN  G01            NaN       NaN  \n",
       "\n",
       "[5 rows x 22 columns]"
      ]
     },
     "execution_count": 11,
     "metadata": {},
     "output_type": "execute_result"
    }
   ],
   "source": [
    "turbine_df.head()"
   ]
  },
  {
   "cell_type": "markdown",
   "id": "0bd40c03",
   "metadata": {},
   "source": [
    "## Changing Unnamed to DateTime"
   ]
  },
  {
   "cell_type": "code",
   "execution_count": 12,
   "id": "40d60e14",
   "metadata": {},
   "outputs": [],
   "source": [
    "turbine_df['DateTime'] = turbine_df['Unnamed: 0'] \n",
    "turbine_df.drop('Unnamed: 0', axis=1, inplace=True)"
   ]
  },
  {
   "cell_type": "code",
   "execution_count": 13,
   "id": "7a5407c7",
   "metadata": {},
   "outputs": [
    {
     "name": "stdout",
     "output_type": "stream",
     "text": [
      "<class 'pandas.core.frame.DataFrame'>\n",
      "RangeIndex: 118224 entries, 0 to 118223\n",
      "Data columns (total 22 columns):\n",
      " #   Column                        Non-Null Count   Dtype              \n",
      "---  ------                        --------------   -----              \n",
      " 0   ActivePower                   94750 non-null   float64            \n",
      " 1   AmbientTemperatue             93817 non-null   float64            \n",
      " 2   BearingShaftTemperature       62518 non-null   float64            \n",
      " 3   Blade1PitchAngle              41996 non-null   float64            \n",
      " 4   Blade2PitchAngle              41891 non-null   float64            \n",
      " 5   Blade3PitchAngle              41891 non-null   float64            \n",
      " 6   ControlBoxTemperature         62160 non-null   float64            \n",
      " 7   GearboxBearingTemperature     62540 non-null   float64            \n",
      " 8   GearboxOilTemperature         62438 non-null   float64            \n",
      " 9   GeneratorRPM                  62295 non-null   float64            \n",
      " 10  GeneratorWinding1Temperature  62427 non-null   float64            \n",
      " 11  GeneratorWinding2Temperature  62449 non-null   float64            \n",
      " 12  HubTemperature                62406 non-null   float64            \n",
      " 13  MainBoxTemperature            62507 non-null   float64            \n",
      " 14  NacellePosition               72278 non-null   float64            \n",
      " 15  ReactivePower                 94748 non-null   float64            \n",
      " 16  RotorRPM                      62127 non-null   float64            \n",
      " 17  TurbineStatus                 62908 non-null   float64            \n",
      " 18  WTG                           118224 non-null  object             \n",
      " 19  WindDirection                 72278 non-null   float64            \n",
      " 20  WindSpeed                     94595 non-null   float64            \n",
      " 21  DateTime                      118224 non-null  datetime64[ns, UTC]\n",
      "dtypes: datetime64[ns, UTC](1), float64(20), object(1)\n",
      "memory usage: 19.8+ MB\n"
     ]
    }
   ],
   "source": [
    "turbine_df.info()"
   ]
  },
  {
   "cell_type": "markdown",
   "id": "2b741310",
   "metadata": {},
   "source": [
    "## Adding DateTime parameters"
   ]
  },
  {
   "cell_type": "code",
   "execution_count": 14,
   "id": "0ac42ef3",
   "metadata": {},
   "outputs": [],
   "source": [
    "turbine_df['DateTime'] = pd.to_datetime(turbine_df['DateTime'], \n",
    " format = '%Y-%m-%dT%H:%M:%SZ', \n",
    " errors = 'coerce')\n",
    "\n",
    "turbine_df['year'] = turbine_df['DateTime'].dt.year\n",
    "turbine_df['month'] = turbine_df['DateTime'].dt.month\n",
    "turbine_df['day'] = turbine_df['DateTime'].dt.day\n",
    "turbine_df['hour'] = turbine_df['DateTime'].dt.hour\n",
    "turbine_df['minute'] = turbine_df['DateTime'].dt.minute"
   ]
  },
  {
   "cell_type": "code",
   "execution_count": 15,
   "id": "304aeae8",
   "metadata": {},
   "outputs": [],
   "source": [
    "# Drop original DateTime column\n",
    "turbine_df.drop('DateTime', axis=1, inplace= True)"
   ]
  },
  {
   "cell_type": "markdown",
   "id": "ab149b0b",
   "metadata": {},
   "source": [
    "## Missing Values"
   ]
  },
  {
   "cell_type": "code",
   "execution_count": 16,
   "id": "e2361325",
   "metadata": {},
   "outputs": [
    {
     "data": {
      "text/plain": [
       "ActivePower                     23474\n",
       "AmbientTemperatue               24407\n",
       "BearingShaftTemperature         55706\n",
       "Blade1PitchAngle                76228\n",
       "Blade2PitchAngle                76333\n",
       "Blade3PitchAngle                76333\n",
       "ControlBoxTemperature           56064\n",
       "GearboxBearingTemperature       55684\n",
       "GearboxOilTemperature           55786\n",
       "GeneratorRPM                    55929\n",
       "GeneratorWinding1Temperature    55797\n",
       "GeneratorWinding2Temperature    55775\n",
       "HubTemperature                  55818\n",
       "MainBoxTemperature              55717\n",
       "NacellePosition                 45946\n",
       "ReactivePower                   23476\n",
       "RotorRPM                        56097\n",
       "TurbineStatus                   55316\n",
       "WTG                                 0\n",
       "WindDirection                   45946\n",
       "WindSpeed                       23629\n",
       "year                                0\n",
       "month                               0\n",
       "day                                 0\n",
       "hour                                0\n",
       "minute                              0\n",
       "dtype: int64"
      ]
     },
     "execution_count": 16,
     "metadata": {},
     "output_type": "execute_result"
    }
   ],
   "source": [
    "turbine_df.isna().sum()"
   ]
  },
  {
   "cell_type": "code",
   "execution_count": 17,
   "id": "2ad988bd",
   "metadata": {},
   "outputs": [
    {
     "data": {
      "text/plain": [
       "ActivePower                     19.86\n",
       "AmbientTemperatue               20.64\n",
       "BearingShaftTemperature         47.12\n",
       "Blade1PitchAngle                64.48\n",
       "Blade2PitchAngle                64.57\n",
       "Blade3PitchAngle                64.57\n",
       "ControlBoxTemperature           47.42\n",
       "GearboxBearingTemperature       47.10\n",
       "GearboxOilTemperature           47.19\n",
       "GeneratorRPM                    47.31\n",
       "GeneratorWinding1Temperature    47.20\n",
       "GeneratorWinding2Temperature    47.18\n",
       "HubTemperature                  47.21\n",
       "MainBoxTemperature              47.13\n",
       "NacellePosition                 38.86\n",
       "ReactivePower                   19.86\n",
       "RotorRPM                        47.45\n",
       "TurbineStatus                   46.79\n",
       "WTG                              0.00\n",
       "WindDirection                   38.86\n",
       "WindSpeed                       19.99\n",
       "year                             0.00\n",
       "month                            0.00\n",
       "day                              0.00\n",
       "hour                             0.00\n",
       "minute                           0.00\n",
       "dtype: float64"
      ]
     },
     "execution_count": 17,
     "metadata": {},
     "output_type": "execute_result"
    }
   ],
   "source": [
    "#Percentage of the missing values among the columns\n",
    "round(turbine_df.isna().sum()/len(turbine_df.index) * 100,2)"
   ]
  },
  {
   "cell_type": "markdown",
   "id": "120757d3",
   "metadata": {},
   "source": [
    "## Filling the numeric rows with the median"
   ]
  },
  {
   "cell_type": "code",
   "execution_count": 18,
   "id": "98d2dcb0",
   "metadata": {},
   "outputs": [],
   "source": [
    "for label, content in turbine_df.items():\n",
    "    if pd.api.types.is_numeric_dtype(content):\n",
    "        if pd.isnull(content).sum():\n",
    "            # Filling missing numeric values with median\n",
    "            turbine_df[label] = content.fillna(content.median())"
   ]
  },
  {
   "cell_type": "code",
   "execution_count": 19,
   "id": "f4b0eac9",
   "metadata": {},
   "outputs": [
    {
     "name": "stdout",
     "output_type": "stream",
     "text": [
      "<bound method NDFrame._add_numeric_operations.<locals>.sum of 0         False\n",
      "1         False\n",
      "2         False\n",
      "3         False\n",
      "4         False\n",
      "          ...  \n",
      "118219    False\n",
      "118220    False\n",
      "118221    False\n",
      "118222    False\n",
      "118223    False\n",
      "Name: AmbientTemperatue, Length: 118224, dtype: bool>\n"
     ]
    }
   ],
   "source": [
    "for label, content in list(turbine_df.items())[1:2]:\n",
    "    print(pd.isnull(content).sum)"
   ]
  },
  {
   "cell_type": "markdown",
   "id": "a8e3cba3",
   "metadata": {},
   "source": [
    "## Turn categorical variables into numbers"
   ]
  },
  {
   "cell_type": "code",
   "execution_count": 20,
   "id": "58c92b60",
   "metadata": {},
   "outputs": [],
   "source": [
    "for label, content in turbine_df.items():\n",
    "    # Check columns which aren't numeric\n",
    "    if not pd.api.types.is_numeric_dtype(content):\n",
    "        # We add the +1 because pandas encodes missing categories as -1\n",
    "        turbine_df[label] = pd.Categorical(content).codes+1"
   ]
  },
  {
   "cell_type": "code",
   "execution_count": 21,
   "id": "8f6a1baa",
   "metadata": {},
   "outputs": [
    {
     "name": "stdout",
     "output_type": "stream",
     "text": [
      "<class 'pandas.core.frame.DataFrame'>\n",
      "RangeIndex: 118224 entries, 0 to 118223\n",
      "Data columns (total 26 columns):\n",
      " #   Column                        Non-Null Count   Dtype  \n",
      "---  ------                        --------------   -----  \n",
      " 0   ActivePower                   118224 non-null  float64\n",
      " 1   AmbientTemperatue             118224 non-null  float64\n",
      " 2   BearingShaftTemperature       118224 non-null  float64\n",
      " 3   Blade1PitchAngle              118224 non-null  float64\n",
      " 4   Blade2PitchAngle              118224 non-null  float64\n",
      " 5   Blade3PitchAngle              118224 non-null  float64\n",
      " 6   ControlBoxTemperature         118224 non-null  float64\n",
      " 7   GearboxBearingTemperature     118224 non-null  float64\n",
      " 8   GearboxOilTemperature         118224 non-null  float64\n",
      " 9   GeneratorRPM                  118224 non-null  float64\n",
      " 10  GeneratorWinding1Temperature  118224 non-null  float64\n",
      " 11  GeneratorWinding2Temperature  118224 non-null  float64\n",
      " 12  HubTemperature                118224 non-null  float64\n",
      " 13  MainBoxTemperature            118224 non-null  float64\n",
      " 14  NacellePosition               118224 non-null  float64\n",
      " 15  ReactivePower                 118224 non-null  float64\n",
      " 16  RotorRPM                      118224 non-null  float64\n",
      " 17  TurbineStatus                 118224 non-null  float64\n",
      " 18  WTG                           118224 non-null  int8   \n",
      " 19  WindDirection                 118224 non-null  float64\n",
      " 20  WindSpeed                     118224 non-null  float64\n",
      " 21  year                          118224 non-null  int64  \n",
      " 22  month                         118224 non-null  int64  \n",
      " 23  day                           118224 non-null  int64  \n",
      " 24  hour                          118224 non-null  int64  \n",
      " 25  minute                        118224 non-null  int64  \n",
      "dtypes: float64(20), int64(5), int8(1)\n",
      "memory usage: 22.7 MB\n"
     ]
    }
   ],
   "source": [
    "turbine_df.info()"
   ]
  },
  {
   "cell_type": "markdown",
   "id": "3fc94919",
   "metadata": {},
   "source": [
    "## Train-Test Splitting"
   ]
  },
  {
   "cell_type": "code",
   "execution_count": 22,
   "id": "71854787",
   "metadata": {},
   "outputs": [
    {
     "name": "stdout",
     "output_type": "stream",
     "text": [
      "Rows in train set: 115859\n",
      "Rows in test set: 2365\n"
     ]
    }
   ],
   "source": [
    "from sklearn.model_selection import train_test_split\n",
    "train_set, test_set = train_test_split(turbine_df, test_size=0.02, random_state=42)\n",
    "print(f\"Rows in train set: {len(train_set)}\\nRows in test set: {len(test_set)}\")"
   ]
  },
  {
   "cell_type": "code",
   "execution_count": 23,
   "id": "98dc2f0f",
   "metadata": {},
   "outputs": [],
   "source": [
    "turbine_df = train_set.copy()"
   ]
  },
  {
   "cell_type": "markdown",
   "id": "c0ef0bd6",
   "metadata": {},
   "source": [
    "## Corelation matrix"
   ]
  },
  {
   "cell_type": "code",
   "execution_count": 24,
   "id": "8c00bef8",
   "metadata": {},
   "outputs": [
    {
     "data": {
      "text/plain": [
       "ActivePower                     1.000000\n",
       "WindSpeed                       0.928686\n",
       "GeneratorWinding2Temperature    0.748397\n",
       "GeneratorWinding1Temperature    0.747728\n",
       "ReactivePower                   0.726202\n",
       "GeneratorRPM                    0.672296\n",
       "RotorRPM                        0.671696\n",
       "GearboxOilTemperature           0.651129\n",
       "GearboxBearingTemperature       0.620349\n",
       "BearingShaftTemperature         0.490685\n",
       "HubTemperature                  0.262395\n",
       "hour                            0.154609\n",
       "MainBoxTemperature              0.081525\n",
       "month                           0.044419\n",
       "NacellePosition                 0.022395\n",
       "WindDirection                   0.022395\n",
       "year                            0.003040\n",
       "minute                          0.002295\n",
       "TurbineStatus                   0.000341\n",
       "day                            -0.042667\n",
       "AmbientTemperatue              -0.056497\n",
       "Blade1PitchAngle               -0.189420\n",
       "Blade3PitchAngle               -0.189638\n",
       "Blade2PitchAngle               -0.189638\n",
       "ControlBoxTemperature                NaN\n",
       "WTG                                  NaN\n",
       "Name: ActivePower, dtype: float64"
      ]
     },
     "execution_count": 24,
     "metadata": {},
     "output_type": "execute_result"
    }
   ],
   "source": [
    "corr_matrix = turbine_df.corr()\n",
    "corr_matrix['ActivePower'].sort_values(ascending=False)"
   ]
  },
  {
   "cell_type": "code",
   "execution_count": 25,
   "id": "55dbbb7c",
   "metadata": {},
   "outputs": [
    {
     "data": {
      "image/png": "[encoded data removed]",
      "text/plain": [
       "<Figure size 432x288 with 1 Axes>"
      ]
     },
     "metadata": {
      "needs_background": "light"
     },
     "output_type": "display_data"
    }
   ],
   "source": [
    "turbine_df.plot(kind=\"scatter\", x=\"WindSpeed\", y=\"ActivePower\")\n",
    "plt.show()"
   ]
  },
  {
   "cell_type": "markdown",
   "id": "7d107f92",
   "metadata": {},
   "source": [
    "## Prepare the data to train the model"
   ]
  },
  {
   "cell_type": "code",
   "execution_count": 26,
   "id": "4f05828a",
   "metadata": {},
   "outputs": [],
   "source": [
    "turbine_df = train_set.drop(\"ActivePower\", axis=1)\n",
    "turbine_labels = train_set[\"ActivePower\"].copy()"
   ]
  },
  {
   "cell_type": "markdown",
   "id": "9bf55dd8",
   "metadata": {},
   "source": [
    "## Selecting a desired model"
   ]
  },
  {
   "cell_type": "code",
   "execution_count": 27,
   "id": "d3ab9495",
   "metadata": {},
   "outputs": [
    {
     "data": {
      "text/plain": [
       "RandomForestRegressor()"
      ]
     },
     "execution_count": 27,
     "metadata": {},
     "output_type": "execute_result"
    }
   ],
   "source": [
    "from sklearn.linear_model import LinearRegression\n",
    "from sklearn.tree import DecisionTreeRegressor\n",
    "from sklearn.ensemble import RandomForestRegressor\n",
    "# model = LinearRegression()\n",
    "# model = DecisionTreeRegressor()\n",
    "model = RandomForestRegressor()\n",
    "model.fit(turbine_df, turbine_labels)"
   ]
  },
  {
   "cell_type": "markdown",
   "id": "a4e954fe",
   "metadata": {},
   "source": [
    "## Evaluating the model"
   ]
  },
  {
   "cell_type": "code",
   "execution_count": 28,
   "id": "3936ad80",
   "metadata": {},
   "outputs": [],
   "source": [
    "from sklearn.metrics import mean_squared_error\n",
    "predictions = model.predict(turbine_df)\n",
    "mse = mean_squared_error(turbine_labels, predictions)\n",
    "rmse = np.sqrt(mse)"
   ]
  },
  {
   "cell_type": "code",
   "execution_count": 29,
   "id": "bc115cf1",
   "metadata": {},
   "outputs": [
    {
     "data": {
      "text/plain": [
       "12.92788956736483"
      ]
     },
     "execution_count": 29,
     "metadata": {},
     "output_type": "execute_result"
    }
   ],
   "source": [
    "rmse"
   ]
  },
  {
   "cell_type": "markdown",
   "id": "918ad2bc",
   "metadata": {},
   "source": [
    "### Testing the model on Training Data"
   ]
  },
  {
   "cell_type": "code",
   "execution_count": 30,
   "id": "62373064",
   "metadata": {},
   "outputs": [],
   "source": [
    "some_data = turbine_df.iloc[:20]\n",
    "some_labels = turbine_labels.iloc[:20]"
   ]
  },
  {
   "cell_type": "code",
   "execution_count": 31,
   "id": "71bc3ad8",
   "metadata": {},
   "outputs": [
    {
     "data": {
      "text/plain": [
       "array([ 475.23667948,   74.56216902,  402.65489332, 1044.059874  ,\n",
       "         -5.90825301, 1385.45565073,  339.06784004,   -6.29821899,\n",
       "       1725.31314696,   -4.8295838 ,  210.83019018, 1070.56929463,\n",
       "       1719.95282227,  402.65489332,  253.76618366,  624.02135578,\n",
       "        402.65489332, 1396.23415849,  402.65489332, 1718.73198384])"
      ]
     },
     "execution_count": 31,
     "metadata": {},
     "output_type": "execute_result"
    }
   ],
   "source": [
    "model.predict(some_data)"
   ]
  },
  {
   "cell_type": "code",
   "execution_count": 32,
   "id": "219408c4",
   "metadata": {
    "scrolled": false
   },
   "outputs": [
    {
     "data": {
      "text/plain": [
       "array([ 477.142752  ,   73.54754435,  402.65489332, 1055.851445  ,\n",
       "         -6.01979413, 1383.995073  ,  340.43673   ,   -5.87378341,\n",
       "       1726.835925  ,   -4.82970736,  211.68833434, 1042.785391  ,\n",
       "       1719.96231444,  402.65489332,  259.36252   ,  589.76134817,\n",
       "        402.65489332, 1400.82291071,  402.65489332, 1717.18129811])"
      ]
     },
     "execution_count": 32,
     "metadata": {},
     "output_type": "execute_result"
    }
   ],
   "source": [
    "np.array(some_labels)"
   ]
  },
  {
   "cell_type": "markdown",
   "id": "ed4b796b",
   "metadata": {},
   "source": [
    "## Testing the model on test data"
   ]
  },
  {
   "cell_type": "code",
   "execution_count": 33,
   "id": "1bf8f7fa",
   "metadata": {},
   "outputs": [],
   "source": [
    "X_test = test_set.drop(\"ActivePower\", axis=1)\n",
    "Y_test = test_set[\"ActivePower\"].copy()\n",
    "final_predictions = model.predict(X_test)\n",
    "final_mse = mean_squared_error(Y_test, final_predictions)\n",
    "final_rmse = np.sqrt(final_mse)"
   ]
  },
  {
   "cell_type": "markdown",
   "id": "fce88b1f",
   "metadata": {},
   "source": [
    "## Fuzzy Controller"
   ]
  },
  {
   "cell_type": "code",
   "execution_count": 34,
   "id": "d5c0bfa4",
   "metadata": {},
   "outputs": [],
   "source": [
    "import skfuzzy as fuzzy\n",
    "from skfuzzy import control as ctrl\n",
    "import matplotlib.pyplot as plt"
   ]
  },
  {
   "cell_type": "markdown",
   "id": "af19711b",
   "metadata": {},
   "source": [
    "N -> Negative\n",
    "B -> Big\n",
    "P -> Positive\n",
    "Z -> Zero"
   ]
  },
  {
   "cell_type": "code",
   "execution_count": 35,
   "id": "ca02b9e5",
   "metadata": {},
   "outputs": [
    {
     "name": "stderr",
     "output_type": "stream",
     "text": [
      "c:\\python37\\lib\\site-packages\\skfuzzy\\control\\fuzzyvariable.py:122: UserWarning: Matplotlib is currently using module://matplotlib_inline.backend_inline, which is a non-GUI backend, so cannot show the figure.\n",
      "  fig.show()\n"
     ]
    },
    {
     "data": {
      "image/png": "[encoded data removed]",
      "text/plain": [
       "<Figure size 432x288 with 1 Axes>"
      ]
     },
     "metadata": {
      "needs_background": "light"
     },
     "output_type": "display_data"
    }
   ],
   "source": [
    "# Definig membership function for the change in rotational speed of generator\n",
    "\n",
    "speed_change=ctrl.Antecedent(np.linspace(-30,30),'speed-change')\n",
    "speed_change['NB']=fuzzy.trimf(speed_change.universe,[-30,-30,-10])\n",
    "speed_change['NS']=fuzzy.trapmf(speed_change.universe,[-20,-20,-10,-3])\n",
    "speed_change['Z']=fuzzy.trimf(speed_change.universe,[-5,-3,5])\n",
    "speed_change['PS']=fuzzy.trimf(speed_change.universe,[0,12,15])\n",
    "speed_change['PB']=fuzzy.trapmf(speed_change.universe,[10,20,30,30])\n",
    "speed_change.view()\n",
    "plt.show()"
   ]
  },
  {
   "cell_type": "code",
   "execution_count": 36,
   "id": "225e99e5",
   "metadata": {},
   "outputs": [],
   "source": [
    "change_active_power = (model.predict(some_data) - model.predict(some_data).mean())/100\n",
    "#               (Considering this as initial active power)  - (Final)"
   ]
  },
  {
   "cell_type": "code",
   "execution_count": 37,
   "id": "72721556",
   "metadata": {},
   "outputs": [
    {
     "data": {
      "text/plain": [
       "array([-6.87867462, -6.87477496, -6.86398827, -6.07007074, -4.70739053,\n",
       "       -4.2780306 , -3.42501403, -2.7891435 , -2.7891435 , -2.7891435 ,\n",
       "       -2.7891435 , -2.06332564, -0.57547888,  3.62490631,  3.89000051,\n",
       "        7.03886407,  7.14664915, 10.37162741, 10.38383579, 10.43743904])"
      ]
     },
     "execution_count": 37,
     "metadata": {},
     "output_type": "execute_result"
    }
   ],
   "source": [
    "np.sort(change_active_power)"
   ]
  },
  {
   "cell_type": "code",
   "execution_count": 38,
   "id": "13523db9",
   "metadata": {},
   "outputs": [
    {
     "name": "stderr",
     "output_type": "stream",
     "text": [
      "c:\\python37\\lib\\site-packages\\skfuzzy\\control\\fuzzyvariable.py:122: UserWarning: Matplotlib is currently using module://matplotlib_inline.backend_inline, which is a non-GUI backend, so cannot show the figure.\n",
      "  fig.show()\n"
     ]
    },
    {
     "data": {
      "image/png": "[encoded data removed]",
      "text/plain": [
       "<Figure size 432x288 with 1 Axes>"
      ]
     },
     "metadata": {
      "needs_background": "light"
     },
     "output_type": "display_data"
    }
   ],
   "source": [
    "# Definig membership function for the active power\n",
    "active_power_change=ctrl.Antecedent(np.linspace(-7,10),'active-power-change')\n",
    "active_power_change['N']=fuzzy.trimf(active_power_change.universe,[-7,-7,-1])\n",
    "active_power_change['Z']=fuzzy.trimf(active_power_change.universe,[-2,1,5])\n",
    "active_power_change['P']=fuzzy.trapmf(active_power_change.universe,[2,8,10,10])\n",
    "active_power_change.view()\n",
    "plt.show()"
   ]
  },
  {
   "cell_type": "code",
   "execution_count": 39,
   "id": "39bd679f",
   "metadata": {},
   "outputs": [
    {
     "name": "stderr",
     "output_type": "stream",
     "text": [
      "c:\\python37\\lib\\site-packages\\skfuzzy\\control\\fuzzyvariable.py:122: UserWarning: Matplotlib is currently using module://matplotlib_inline.backend_inline, which is a non-GUI backend, so cannot show the figure.\n",
      "  fig.show()\n"
     ]
    },
    {
     "data": {
      "image/png": "[encoded data removed]",
      "text/plain": [
       "<Figure size 432x288 with 1 Axes>"
      ]
     },
     "metadata": {
      "needs_background": "light"
     },
     "output_type": "display_data"
    }
   ],
   "source": [
    "disired_speed_change=ctrl.Consequent(np.arange(0,21),'disired-speed-change')\n",
    "names = ['NB', 'NS', 'Z', 'PS', 'PB']\n",
    "disired_speed_change.automf(5,names=names)\n",
    "disired_speed_change.view()"
   ]
  },
  {
   "cell_type": "code",
   "execution_count": 40,
   "id": "8b54efd7",
   "metadata": {},
   "outputs": [],
   "source": [
    "# Defing the rules\n",
    "rule1=ctrl.Rule(antecedent = ((speed_change['NB'] & active_power_change['N']) |\n",
    "                (speed_change['PB'] & active_power_change['P'])),\n",
    "                consequent = disired_speed_change['PB'])\n",
    "\n",
    "\n",
    "rule2=ctrl.Rule(antecedent = ((speed_change['NS'] & active_power_change['N']) |\n",
    "                (speed_change['PS'] & active_power_change['P'])),\n",
    "                consequent = disired_speed_change['PS'])\n",
    "\n",
    "\n",
    "rule3=ctrl.Rule(antecedent = ((speed_change['Z'] & active_power_change['P']) |\n",
    "                (speed_change['Z'] & active_power_change['Z']) |\n",
    "                (speed_change['Z'] & active_power_change['N'])),\n",
    "                consequent = disired_speed_change['Z'])\n",
    "\n",
    "\n",
    "rule4=ctrl.Rule(antecedent = ((speed_change['NB'] & active_power_change['P'])|\n",
    "                (speed_change['PB'] & active_power_change['N']))\n",
    "                ,consequent = disired_speed_change['NB'])\n"
   ]
  },
  {
   "cell_type": "code",
   "execution_count": 41,
   "id": "1849adf9",
   "metadata": {},
   "outputs": [
    {
     "name": "stderr",
     "output_type": "stream",
     "text": [
      "c:\\python37\\lib\\site-packages\\skfuzzy\\control\\fuzzyvariable.py:122: UserWarning: Matplotlib is currently using module://matplotlib_inline.backend_inline, which is a non-GUI backend, so cannot show the figure.\n",
      "  fig.show()\n",
      "c:\\python37\\lib\\site-packages\\skfuzzy\\control\\fuzzyvariable.py:122: UserWarning: Matplotlib is currently using module://matplotlib_inline.backend_inline, which is a non-GUI backend, so cannot show the figure.\n",
      "  fig.show()\n",
      "c:\\python37\\lib\\site-packages\\skfuzzy\\control\\fuzzyvariable.py:122: UserWarning: Matplotlib is currently using module://matplotlib_inline.backend_inline, which is a non-GUI backend, so cannot show the figure.\n",
      "  fig.show()\n"
     ]
    },
    {
     "data": {
      "image/png": "[encoded data removed]",
      "text/plain": [
       "<Figure size 432x288 with 1 Axes>"
      ]
     },
     "metadata": {
      "needs_background": "light"
     },
     "output_type": "display_data"
    },
    {
     "data": {
      "image/png": "[encoded data removed]",
      "text/plain": [
       "<Figure size 432x288 with 1 Axes>"
      ]
     },
     "metadata": {
      "needs_background": "light"
     },
     "output_type": "display_data"
    },
    {
     "data": {
      "image/png": "[encoded data removed]",
      "text/plain": [
       "<Figure size 432x288 with 1 Axes>"
      ]
     },
     "metadata": {
      "needs_background": "light"
     },
     "output_type": "display_data"
    }
   ],
   "source": [
    "rule=[rule1,rule2,rule3,rule4]\n",
    "system=ctrl.ControlSystem(rule)\n",
    "y=ctrl.ControlSystemSimulation(system)\n",
    "\n",
    "speed_change.view()\n",
    "active_power_change.view()\n",
    "disired_speed_change.view(sim=y)\n",
    "plt.show()"
   ]
  },
  {
   "cell_type": "code",
   "execution_count": 42,
   "id": "405fbfc1",
   "metadata": {},
   "outputs": [
    {
     "name": "stdout",
     "output_type": "stream",
     "text": [
      "OrderedDict([('disired-speed-change', 14.586398145323434)])\n"
     ]
    }
   ],
   "source": [
    "y.input['speed-change'] = 5\n",
    "y.input['active-power-change'] = 8\n",
    "y.compute()\n",
    "print(y.output)"
   ]
  }
 ],
 "metadata": {
  "kernelspec": {
   "display_name": "Python 3 (ipykernel)",
   "language": "python",
   "name": "python3"
  },
  "language_info": {
   "codemirror_mode": {
    "name": "ipython",
    "version": 3
   },
   "file_extension": ".py",
   "mimetype": "text/x-python",
   "name": "python",
   "nbconvert_exporter": "python",
   "pygments_lexer": "ipython3",
   "version": "3.8.10"
  }
 },
 "nbformat": 4,
 "nbformat_minor": 5
}
